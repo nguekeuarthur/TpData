{
 "cells": [
  {
   "cell_type": "code",
   "execution_count": 11,
   "metadata": {},
   "outputs": [],
   "source": [
    "import pandas as pd\n",
    "import seaborn as sns\n",
    "import matplotlib.pyplot as plt\n",
    "import numpy as np\n",
    "from scipy import stats\n",
    "\n",
    "# On charge les données\n",
    "tips = sns.load_dataset(\"tips\")\n",
    "\n"
   ]
  },
  {
   "cell_type": "code",
   "execution_count": 12,
   "metadata": {},
   "outputs": [
    {
     "name": "stdout",
     "output_type": "stream",
     "text": [
      "1. Aperçu et types\n",
      "   total_bill   tip     sex smoker  day    time  size\n",
      "0       16.99  1.01  Female     No  Sun  Dinner     2\n",
      "1       10.34  1.66    Male     No  Sun  Dinner     3\n",
      "2       21.01  3.50    Male     No  Sun  Dinner     3\n",
      "3       23.68  3.31    Male     No  Sun  Dinner     2\n",
      "4       24.59  3.61  Female     No  Sun  Dinner     4\n",
      "Index(['total_bill', 'tip', 'sex', 'smoker', 'day', 'time', 'size'], dtype='object')\n",
      "total_bill     float64\n",
      "tip            float64\n",
      "sex           category\n",
      "smoker        category\n",
      "day           category\n",
      "time          category\n",
      "size             int64\n",
      "dtype: object\n"
     ]
    }
   ],
   "source": [
    "# 1. Aperçu et types\n",
    "print(\"1. Aperçu et types\")\n",
    "print(tips.head())\n",
    "print(tips.columns)\n",
    "print(tips.dtypes)\n",
    "\n"
   ]
  },
  {
   "cell_type": "code",
   "execution_count": 13,
   "metadata": {},
   "outputs": [
    {
     "name": "stdout",
     "output_type": "stream",
     "text": [
      "\n",
      "2. Statistiques descriptives\n",
      "       total_bill         tip        size\n",
      "count  244.000000  244.000000  244.000000\n",
      "mean    19.785943    2.998279    2.569672\n",
      "std      8.902412    1.383638    0.951100\n",
      "min      3.070000    1.000000    1.000000\n",
      "25%     13.347500    2.000000    2.000000\n",
      "50%     17.795000    2.900000    2.000000\n",
      "75%     24.127500    3.562500    3.000000\n",
      "max     50.810000   10.000000    6.000000\n"
     ]
    }
   ],
   "source": [
    "# 2. Statistiques descriptives\n",
    "print(\"\\n2. Statistiques descriptives\")\n",
    "print(tips[[\"total_bill\", \"tip\", \"size\"]].describe())\n",
    "\n"
   ]
  },
  {
   "cell_type": "code",
   "execution_count": 14,
   "metadata": {},
   "outputs": [
    {
     "name": "stdout",
     "output_type": "stream",
     "text": [
      "\n",
      "3. Valeurs manquantes\n",
      "total_bill    0\n",
      "tip           0\n",
      "sex           0\n",
      "smoker        0\n",
      "day           0\n",
      "time          0\n",
      "size          0\n",
      "dtype: int64\n"
     ]
    }
   ],
   "source": [
    "# 3. Valeurs manquantes\n",
    "print(\"\\n3. Valeurs manquantes\")\n",
    "print(tips.isnull().sum())\n",
    "\n"
   ]
  },
  {
   "cell_type": "code",
   "execution_count": 15,
   "metadata": {},
   "outputs": [
    {
     "data": {
      "image/png": "[encoded data removed]",
      "text/plain": [
       "<Figure size 640x480 with 1 Axes>"
      ]
     },
     "metadata": {},
     "output_type": "display_data"
    },
    {
     "data": {
      "image/png": "[encoded data removed]",
      "text/plain": [
       "<Figure size 640x480 with 1 Axes>"
      ]
     },
     "metadata": {},
     "output_type": "display_data"
    }
   ],
   "source": [
    "# 4. Histogrammes\n",
    "tips[\"total_bill\"].plot.hist(bins=20, title=\"Histogramme total_bill\" , color=\"red\")\n",
    "plt.xlabel(\"Total Bill\")\n",
    "plt.show()\n",
    "\n",
    "tips[\"tip\"].plot.hist(bins=20, title=\"Histogramme tip\", color=\"orange\")\n",
    "plt.xlabel(\"Tip\")\n",
    "plt.show()\n",
    "\n"
   ]
  },
  {
   "cell_type": "code",
   "execution_count": 16,
   "metadata": {},
   "outputs": [
    {
     "name": "stdout",
     "output_type": "stream",
     "text": [
      "\n",
      "5. Moyenne des pourboires par sexe\n",
      "sex\n",
      "Male      3.089618\n",
      "Female    2.833448\n",
      "Name: tip, dtype: float64\n",
      "\n",
      "Moyenne des pourboires par statut fumeur\n",
      "smoker\n",
      "Yes    3.008710\n",
      "No     2.991854\n",
      "Name: tip, dtype: float64\n",
      "\n",
      "Moyenne des pourboires par jour\n",
      "day\n",
      "Thur    2.771452\n",
      "Fri     2.734737\n",
      "Sat     2.993103\n",
      "Sun     3.255132\n",
      "Name: tip, dtype: float64\n"
     ]
    }
   ],
   "source": [
    "# 5. Moyennes groupées\n",
    "print(\"\\n5. Moyenne des pourboires par sexe\")\n",
    "print(tips.groupby(\"sex\", observed=True)[\"tip\"].mean())\n",
    "print(\"\\nMoyenne des pourboires par statut fumeur\")\n",
    "print(tips.groupby(\"smoker\", observed=True)[\"tip\"].mean())\n",
    "print(\"\\nMoyenne des pourboires par jour\")\n",
    "print(tips.groupby(\"day\", observed=True)[\"tip\"].mean())\n",
    "\n"
   ]
  },
  {
   "cell_type": "code",
   "execution_count": 17,
   "metadata": {},
   "outputs": [
    {
     "name": "stdout",
     "output_type": "stream",
     "text": [
      "\n",
      "6. Moyenne des pourboires par taille de table\n",
      "size\n",
      "1    1.437500\n",
      "2    2.582308\n",
      "3    3.393158\n",
      "4    4.135405\n",
      "5    4.028000\n",
      "6    5.225000\n",
      "Name: tip, dtype: float64\n"
     ]
    }
   ],
   "source": [
    "# 6. Pourboire moyen par taille de table\n",
    "print(\"\\n6. Moyenne des pourboires par taille de table\")\n",
    "print(tips.groupby(\"size\")[\"tip\"].mean())\n",
    "\n"
   ]
  },
  {
   "cell_type": "code",
   "execution_count": 18,
   "metadata": {},
   "outputs": [
    {
     "name": "stdout",
     "output_type": "stream",
     "text": [
      "\n",
      "7. Table croisée day/time\n",
      "time     Lunch    Dinner\n",
      "day                     \n",
      "Thur  2.767705  3.000000\n",
      "Fri   2.382857  2.940000\n",
      "Sat        NaN  2.993103\n",
      "Sun        NaN  3.255132\n"
     ]
    }
   ],
   "source": [
    "# 7. Table croisée\n",
    "print(\"\\n7. Table croisée day/time\")\n",
    "print(pd.pivot_table(tips, values=\"tip\", index=\"day\", columns=\"time\", observed=True))\n"
   ]
  },
  {
   "cell_type": "code",
   "execution_count": 19,
   "metadata": {},
   "outputs": [
    {
     "name": "stdout",
     "output_type": "stream",
     "text": [
      "\n",
      "8. Pourcentage de fumeurs\n",
      "smoker\n",
      "No     61.885246\n",
      "Yes    38.114754\n",
      "Name: proportion, dtype: float64\n",
      "\n",
      "Par sexe :\n",
      "sex     smoker\n",
      "Male    No        61.783439\n",
      "        Yes       38.216561\n",
      "Female  No        62.068966\n",
      "        Yes       37.931034\n",
      "Name: proportion, dtype: float64\n"
     ]
    }
   ],
   "source": [
    "# 8. Proportion de fumeurs\n",
    "print(\"\\n8. Pourcentage de fumeurs\")\n",
    "print(tips[\"smoker\"].value_counts(normalize=True) * 100)\n",
    "print(\"\\nPar sexe :\")\n",
    "print(tips.groupby(\"sex\", observed=True)[\"smoker\"].value_counts(normalize=True) * 100)\n",
    "\n"
   ]
  },
  {
   "cell_type": "code",
   "execution_count": 20,
   "metadata": {},
   "outputs": [
    {
     "data": {
      "image/png": "[encoded data removed]",
      "text/plain": [
       "<Figure size 640x480 with 1 Axes>"
      ]
     },
     "metadata": {},
     "output_type": "display_data"
    }
   ],
   "source": [
    "# 9. Boxplot de tip par day\n",
    "sns.boxplot(data=tips, x=\"day\", y=\"tip\")\n",
    "plt.title(\"Boxplot de Tip par Day\")\n",
    "plt.show()\n",
    "\n"
   ]
  },
  {
   "cell_type": "code",
   "execution_count": 21,
   "metadata": {},
   "outputs": [
    {
     "data": {
      "image/png": "[encoded data removed]",
      "text/plain": [
       "<Figure size 640x480 with 1 Axes>"
      ]
     },
     "metadata": {},
     "output_type": "display_data"
    }
   ],
   "source": [
    "# 10. Scatterplot entre total_bill et tip\n",
    "sns.scatterplot(data=tips, x=\"total_bill\", y=\"tip\")\n",
    "plt.title(\"Scatterplot Total Bill vs Tip\")\n",
    "plt.show()\n",
    "\n"
   ]
  },
  {
   "cell_type": "code",
   "execution_count": 22,
   "metadata": {},
   "outputs": [
    {
     "name": "stdout",
     "output_type": "stream",
     "text": [
      "\n",
      "11. Corrélation total_bill vs tip\n",
      "Corrélation = 0.68, p-value = 0.0000\n",
      "\n",
      "Corrélation size vs tip\n",
      "Corrélation = 0.49, p-value = 0.0000\n"
     ]
    }
   ],
   "source": [
    "# 11. Corrélations linéaires\n",
    "print(\"\\n11. Corrélation total_bill vs tip\")\n",
    "corr1, pval1 = stats.pearsonr(tips[\"total_bill\"], tips[\"tip\"])\n",
    "print(f\"Corrélation = {corr1:.2f}, p-value = {pval1:.4f}\")\n",
    "\n",
    "print(\"\\nCorrélation size vs tip\")\n",
    "corr2, pval2 = stats.pearsonr(tips[\"size\"], tips[\"tip\"])\n",
    "print(f\"Corrélation = {corr2:.2f}, p-value = {pval2:.4f}\")\n",
    "\n"
   ]
  },
  {
   "cell_type": "code",
   "execution_count": 23,
   "metadata": {},
   "outputs": [
    {
     "name": "stdout",
     "output_type": "stream",
     "text": [
      "\n",
      "12. Moyenne des tips par catégorie\n",
      "\n",
      "Par sex :\n",
      "sex\n",
      "Male      3.089618\n",
      "Female    2.833448\n",
      "Name: tip, dtype: float64\n",
      "\n",
      "Par smoker :\n",
      "smoker\n",
      "Yes    3.008710\n",
      "No     2.991854\n",
      "Name: tip, dtype: float64\n",
      "\n",
      "Par day :\n",
      "day\n",
      "Thur    2.771452\n",
      "Fri     2.734737\n",
      "Sat     2.993103\n",
      "Sun     3.255132\n",
      "Name: tip, dtype: float64\n",
      "\n",
      "Par time :\n",
      "time\n",
      "Lunch     2.728088\n",
      "Dinner    3.102670\n",
      "Name: tip, dtype: float64\n"
     ]
    },
    {
     "name": "stderr",
     "output_type": "stream",
     "text": [
      "C:\\Users\\Nguekeu\\AppData\\Local\\Temp\\ipykernel_23104\\2412377095.py:5: FutureWarning: The default of observed=False is deprecated and will be changed to True in a future version of pandas. Pass observed=False to retain current behavior or observed=True to adopt the future default and silence this warning.\n",
      "  print(tips.groupby(cat)[\"tip\"].mean())\n"
     ]
    }
   ],
   "source": [
    "# 12. Corrélations catégorielles\n",
    "print(\"\\n12. Moyenne des tips par catégorie\")\n",
    "for cat in [\"sex\", \"smoker\", \"day\", \"time\"]:\n",
    "    print(f\"\\nPar {cat} :\")\n",
    "    print(tips.groupby(cat)[\"tip\"].mean())\n",
    "\n"
   ]
  },
  {
   "cell_type": "code",
   "execution_count": 24,
   "metadata": {},
   "outputs": [
    {
     "name": "stdout",
     "output_type": "stream",
     "text": [
      "\n",
      "13. Test fumeurs vs non-fumeurs\n",
      "t-statistic = 0.09, p-value = 0.9266\n"
     ]
    }
   ],
   "source": [
    "# 13. Différence significative fumeur/non-fumeur\n",
    "print(\"\\n13. Test fumeurs vs non-fumeurs\")\n",
    "smoker_tip = tips[tips[\"smoker\"] == \"Yes\"][\"tip\"]\n",
    "non_smoker_tip = tips[tips[\"smoker\"] == \"No\"][\"tip\"]\n",
    "tstat, pval = stats.ttest_ind(smoker_tip, non_smoker_tip)\n",
    "print(f\"t-statistic = {tstat:.2f}, p-value = {pval:.4f}\")\n",
    "\n"
   ]
  },
  {
   "cell_type": "code",
   "execution_count": 25,
   "metadata": {},
   "outputs": [
    {
     "name": "stdout",
     "output_type": "stream",
     "text": [
      "\n",
      "14. Tip proportionnel (tip_pct)\n",
      "0.16080258172250472 0.06107220419157192\n"
     ]
    }
   ],
   "source": [
    "# 14. Tip proportionnel\n",
    "tips[\"tip_pct\"] = tips[\"tip\"] / tips[\"total_bill\"]\n",
    "print(\"\\n14. Tip proportionnel (tip_pct)\")\n",
    "print(tips[\"tip_pct\"].mean(), tips[\"tip_pct\"].std())\n",
    "\n"
   ]
  },
  {
   "cell_type": "code",
   "execution_count": 26,
   "metadata": {},
   "outputs": [
    {
     "name": "stdout",
     "output_type": "stream",
     "text": [
      "\n",
      "15. Tip_pct par catégorie\n",
      "\n",
      "Par sex :\n",
      "sex\n",
      "Male      0.157651\n",
      "Female    0.166491\n",
      "Name: tip_pct, dtype: float64\n",
      "\n",
      "Par smoker :\n",
      "smoker\n",
      "Yes    0.163196\n",
      "No     0.159328\n",
      "Name: tip_pct, dtype: float64\n",
      "\n",
      "Par day :\n",
      "day\n",
      "Thur    0.161276\n",
      "Fri     0.169913\n",
      "Sat     0.153152\n",
      "Sun     0.166897\n",
      "Name: tip_pct, dtype: float64\n"
     ]
    },
    {
     "name": "stderr",
     "output_type": "stream",
     "text": [
      "C:\\Users\\Nguekeu\\AppData\\Local\\Temp\\ipykernel_23104\\1288552654.py:5: FutureWarning: The default of observed=False is deprecated and will be changed to True in a future version of pandas. Pass observed=False to retain current behavior or observed=True to adopt the future default and silence this warning.\n",
      "  print(tips.groupby(cat)[\"tip_pct\"].mean())\n"
     ]
    }
   ],
   "source": [
    "# 15. Qui donne le plus en proportion\n",
    "print(\"\\n15. Tip_pct par catégorie\")\n",
    "for cat in [\"sex\", \"smoker\", \"day\"]:\n",
    "    print(f\"\\nPar {cat} :\")\n",
    "    print(tips.groupby(cat)[\"tip_pct\"].mean())\n",
    "\n"
   ]
  },
  {
   "cell_type": "code",
   "execution_count": 27,
   "metadata": {},
   "outputs": [
    {
     "name": "stdout",
     "output_type": "stream",
     "text": [
      "\n",
      "16. Conversion NumPy\n",
      "Shape: (244, 2)\n",
      "Chaque ligne = [total_bill, tip]\n"
     ]
    }
   ],
   "source": [
    "# 16. Conversion en NumPy\n",
    "arr = tips[[\"total_bill\", \"tip\"]].to_numpy()\n",
    "print(\"\\n16. Conversion NumPy\")\n",
    "print(\"Shape:\", arr.shape)  # (n_lignes, 2)\n",
    "print(\"Chaque ligne = [total_bill, tip]\")\n",
    "\n"
   ]
  },
  {
   "cell_type": "code",
   "execution_count": 28,
   "metadata": {},
   "outputs": [
    {
     "name": "stdout",
     "output_type": "stream",
     "text": [
      "\n",
      "17. Calculs NumPy\n",
      "Moyenne: 2.99827868852459\n",
      "Max: 10.0\n",
      "Somme si total_bill > 30: 146.66\n"
     ]
    }
   ],
   "source": [
    "# 17. Calculs vectorisés\n",
    "print(\"\\n17. Calculs NumPy\")\n",
    "tips_np = tips[\"tip\"].to_numpy()\n",
    "total_np = tips[\"total_bill\"].to_numpy()\n",
    "print(\"Moyenne:\", tips_np.mean())\n",
    "print(\"Max:\", tips_np.max())\n",
    "print(\"Somme si total_bill > 30:\", tips_np[total_np > 30].sum())\n",
    "\n"
   ]
  },
  {
   "cell_type": "code",
   "execution_count": 29,
   "metadata": {},
   "outputs": [
    {
     "name": "stdout",
     "output_type": "stream",
     "text": [
      "\n",
      "18. Tips pour size >= 4\n",
      "4.218478260869565\n"
     ]
    }
   ],
   "source": [
    "# 18 \n",
    "print(\"\\n18. Tips pour size >= 4\")\n",
    "print(tips[\"tip\"][tips[\"size\"].to_numpy() >= 4].mean())\n",
    "\n"
   ]
  },
  {
   "cell_type": "code",
   "execution_count": 30,
   "metadata": {},
   "outputs": [
    {
     "name": "stdout",
     "output_type": "stream",
     "text": [
      "\n",
      "19. Tip > 20% de l'addition\n",
      "39 cas concernés\n"
     ]
    }
   ],
   "source": [
    "# 19 \n",
    "print(\"\\n19. Tip > 20% de l'addition\")\n",
    "high_tip = tips[tips[\"tip_pct\"] > 0.2]\n",
    "print(f\"{len(high_tip)} cas concernés\")\n",
    "\n"
   ]
  },
  {
   "cell_type": "code",
   "execution_count": 31,
   "metadata": {},
   "outputs": [
    {
     "name": "stdout",
     "output_type": "stream",
     "text": [
      "\n",
      "20. Répartition des catégories tip_level\n",
      "tip_level\n",
      "moyen     171\n",
      "faible     45\n",
      "élevé      28\n",
      "Name: count, dtype: int64\n"
     ]
    }
   ],
   "source": [
    "# 20 \n",
    "def tip_level(tip):\n",
    "    if tip < 2:\n",
    "        return \"faible\"\n",
    "    elif tip < 5:\n",
    "        return \"moyen\"\n",
    "    else:\n",
    "        return \"élevé\"\n",
    "\n",
    "tips[\"tip_level\"] = tips[\"tip\"].apply(tip_level)\n",
    "print(\"\\n20. Répartition des catégories tip_level\")\n",
    "print(tips[\"tip_level\"].value_counts())\n",
    "\n"
   ]
  },
  {
   "cell_type": "code",
   "execution_count": 32,
   "metadata": {},
   "outputs": [
    {
     "name": "stdout",
     "output_type": "stream",
     "text": [
      "\n",
      "21. is_large_party\n",
      "is_large_party\n",
      "False    198\n",
      "True      46\n",
      "Name: count, dtype: int64\n"
     ]
    }
   ],
   "source": [
    "# 21 \n",
    "tips[\"is_large_party\"] = np.where(tips[\"size\"] >= 4, True, False)\n",
    "print(\"\\n21. is_large_party\")\n",
    "print(tips[\"is_large_party\"].value_counts())\n",
    "\n"
   ]
  },
  {
   "cell_type": "code",
   "execution_count": 33,
   "metadata": {},
   "outputs": [
    {
     "name": "stdout",
     "output_type": "stream",
     "text": [
      "\n",
      "22. 10 plus grandes additions\n",
      "[40.17 40.55 41.19 43.11 44.3  45.35 48.17 48.27 48.33 50.81]\n"
     ]
    }
   ],
   "source": [
    "# 22. Tri NumPy\n",
    "sorted_total = np.sort(tips[\"total_bill\"].to_numpy())\n",
    "print(\"\\n22. 10 plus grandes additions\")\n",
    "print(sorted_total[-10:])\n",
    "\n"
   ]
  },
  {
   "cell_type": "code",
   "execution_count": 34,
   "metadata": {},
   "outputs": [
    {
     "name": "stdout",
     "output_type": "stream",
     "text": [
      "\n",
      "23. Écart-type de tip_pct par jour\n",
      "day\n",
      "Thur    0.038652\n",
      "Fri     0.047665\n",
      "Sat     0.051293\n",
      "Sun     0.084739\n",
      "Name: tip_pct, dtype: float64\n",
      "Jour le plus variable : Sun\n"
     ]
    },
    {
     "name": "stderr",
     "output_type": "stream",
     "text": [
      "C:\\Users\\Nguekeu\\AppData\\Local\\Temp\\ipykernel_23104\\3498434312.py:3: FutureWarning: The default of observed=False is deprecated and will be changed to True in a future version of pandas. Pass observed=False to retain current behavior or observed=True to adopt the future default and silence this warning.\n",
      "  stds = tips.groupby(\"day\")[\"tip_pct\"].std()\n"
     ]
    }
   ],
   "source": [
    "# 23 \n",
    "print(\"\\n23. Écart-type de tip_pct par jour\")\n",
    "stds = tips.groupby(\"day\")[\"tip_pct\"].std()\n",
    "print(stds)\n",
    "print(f\"Jour le plus variable : {stds.idxmax()}\")\n",
    "\n"
   ]
  },
  {
   "cell_type": "code",
   "execution_count": 35,
   "metadata": {},
   "outputs": [
    {
     "name": "stdout",
     "output_type": "stream",
     "text": [
      "\n",
      "24. Nombre de cas avec tip > 5, Dinner, fumeur :\n",
      "6\n"
     ]
    }
   ],
   "source": [
    "# 24 \n",
    "mask = (tips[\"tip\"] > 5) & (tips[\"time\"] == \"Dinner\") & (tips[\"smoker\"] == \"Yes\")\n",
    "print(\"\\n24. Nombre de cas avec tip > 5, Dinner, fumeur :\")\n",
    "print(mask.sum())\n",
    "\n"
   ]
  },
  {
   "cell_type": "code",
   "execution_count": 36,
   "metadata": {},
   "outputs": [
    {
     "name": "stdout",
     "output_type": "stream",
     "text": [
      "\n",
      "25. Concaténation index conservé ?\n",
      "False\n"
     ]
    }
   ],
   "source": [
    "# 25 \n",
    "men = tips[tips[\"sex\"] == \"Male\"]\n",
    "women = tips[tips[\"sex\"] == \"Female\"]\n",
    "merged = pd.concat([men, women])\n",
    "print(\"\\n25. Concaténation index conservé ?\")\n",
    "print(merged.index.equals(pd.RangeIndex(start=0, stop=len(merged))))\n"
   ]
  }
 ],
 "metadata": {
  "kernelspec": {
   "display_name": "Python 3",
   "language": "python",
   "name": "python3"
  },
  "language_info": {
   "codemirror_mode": {
    "name": "ipython",
    "version": 3
   },
   "file_extension": ".py",
   "mimetype": "text/x-python",
   "name": "python",
   "nbconvert_exporter": "python",
   "pygments_lexer": "ipython3",
   "version": "3.13.1"
  }
 },
 "nbformat": 4,
 "nbformat_minor": 2
}
